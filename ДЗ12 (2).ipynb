{
 "cells": [
  {
   "cell_type": "code",
   "execution_count": 3,
   "id": "4a849d4e",
   "metadata": {},
   "outputs": [],
   "source": [
    "import os\n",
    "import shutil\n",
    "from datetime import datetime"
   ]
  },
  {
   "cell_type": "code",
   "execution_count": 24,
   "id": "297983ac",
   "metadata": {},
   "outputs": [
    {
     "name": "stdout",
     "output_type": "stream",
     "text": [
      "C:\\PythonProjects\n"
     ]
    }
   ],
   "source": [
    "name = os.path.dirname(r'C:\\PythonProjects\\AiogramBotWeatherProject')\n",
    "print(name)"
   ]
  },
  {
   "cell_type": "code",
   "execution_count": null,
   "id": "4d2eea47",
   "metadata": {},
   "outputs": [
    {
     "name": "stdout",
     "output_type": "stream",
     "text": [
      "\n",
      "===== Работа с файлами =====\n",
      "1. Создать папку\n",
      "2. Удалить папку\n",
      "3. Переместить папку\n",
      "4. Копировать файл\n",
      "5. Копировать папку\n",
      "6. Выход\n",
      "Что будем делать? Введите номер: 4\n",
      "Введите название файла для копирования ДЗ9.ipynb\n",
      "Введите новое название копируемоего файла ДЗ91.ipynb\n",
      "\n",
      "===== Работа с файлами =====\n",
      "1. Создать папку\n",
      "2. Удалить папку\n",
      "3. Переместить папку\n",
      "4. Копировать файл\n",
      "5. Копировать папку\n",
      "6. Выход\n"
     ]
    }
   ],
   "source": [
    "\n",
    "def main():\n",
    "    while True:\n",
    "        print(\"\\n===== Работа с файлами =====\")\n",
    "        print(\"1. Создать папку\")\n",
    "        print(\"2. Удалить папку\")\n",
    "        print(\"3. Переместить папку\")\n",
    "        print(\"4. Копировать файл\")\n",
    "        print(\"5. Копировать папку\")\n",
    "        print(\"6. Выход\")\n",
    "        \n",
    "        choice = input(\"Что будем делать? Введите номер: \")\n",
    "        \n",
    "        if choice == \"1\":\n",
    "            name = input('Введите название папки ')\n",
    "            os.mkdir(name)\n",
    "            print(\"Папка успешно добавлена\")\n",
    "        elif choice == \"2\":\n",
    "            name2 = input('Введите название папки ')\n",
    "            os.rmdir(name2)\n",
    "            print(\"Папка успешно удалена\")\n",
    "        elif choice == \"3\":\n",
    "            q = input('Введите название файла для перемещения ')\n",
    "            w = input('Введите путь куда будем перемещать ')\n",
    "            shutil.move(q, w)\n",
    "        elif choice == \"4\":\n",
    "            a = input('Введите название файла с разрешением для копирования ')\n",
    "            b = input('Введите новое название копируемоего файла ')\n",
    "            shutil.copyfile(a, b)\n",
    "        elif choice == \"5\":\n",
    "            e = input('Введите название папки для копирования ')\n",
    "            r = input('Введите новое название копируемой папки ')\n",
    "            shutil.copy2('e', 'r')\n",
    "        elif choice == \"6\":\n",
    "            break\n",
    "        else:\n",
    "            print(\"Неверный выбор. Пожалуйста, попробуйте снова.\")\n",
    "\n",
    "if __name__ == '__main__':\n",
    "    main()"
   ]
  }
 ],
 "metadata": {
  "kernelspec": {
   "display_name": "Python 3 (ipykernel)",
   "language": "python",
   "name": "python3"
  },
  "language_info": {
   "codemirror_mode": {
    "name": "ipython",
    "version": 3
   },
   "file_extension": ".py",
   "mimetype": "text/x-python",
   "name": "python",
   "nbconvert_exporter": "python",
   "pygments_lexer": "ipython3",
   "version": "3.11.5"
  }
 },
 "nbformat": 4,
 "nbformat_minor": 5
}
